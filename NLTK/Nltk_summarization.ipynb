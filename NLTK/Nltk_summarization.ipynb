{
  "nbformat": 4,
  "nbformat_minor": 0,
  "metadata": {
    "colab": {
      "provenance": []
    },
    "kernelspec": {
      "name": "python3",
      "display_name": "Python 3"
    },
    "language_info": {
      "name": "python"
    }
  },
  "cells": [
    {
      "cell_type": "code",
      "execution_count": null,
      "metadata": {
        "id": "240MhuDNr7kH"
      },
      "outputs": [],
      "source": [
        "### STEPS IMPLEMNETED:\n",
        "# convert into sentences\n",
        "# preprocessing -  removing special characters, stop words, numbers\n",
        "# tokenization\n",
        "# finding the weighted frequency of occurence and replace the sentence with the weighted frequencies\n",
        "# sorting sentences into descending order"
      ]
    },
    {
      "cell_type": "code",
      "source": [
        "import re\n",
        "# https://docs.python.org/3/library/re.html"
      ],
      "metadata": {
        "id": "27KLsJfhs60v"
      },
      "execution_count": null,
      "outputs": []
    },
    {
      "cell_type": "code",
      "source": [],
      "metadata": {
        "id": "YrUp2FhpkJMF"
      },
      "execution_count": null,
      "outputs": []
    },
    {
      "cell_type": "code",
      "source": [
        "text_article = \"\"\"\n",
        "\n",
        "Elon Reeve Musk (/ˈiːlɒn/ EE-lon; born June 28, 1971) is a business magnate and investor. He is the founder, CEO and chief engineer of SpaceX; angel investor, CEO and product architect of Tesla, Inc.; founder, owner, CTO and chairman of X Corp. and Twitter; founder of the Boring Company; co-founder of Neuralink and OpenAI; and president of the philanthropic Musk Foundation. Musk is the wealthiest person in the world, with an estimated net worth, as of July 6, 2023, of around US$248 billion according to the Bloomberg Billionaires Index and $251.1 billion according to Forbes's Real Time Billionaires list, primarily from his ownership stakes in Tesla and SpaceX.[4][5][6]\n",
        "\n",
        "Musk was born in Pretoria, South Africa, and briefly attended the University of Pretoria before moving to Canada at age 18, acquiring citizenship through his Canadian-born mother. Two years later, he matriculated at Queen's University and transferred to the University of Pennsylvania, where he received bachelor's degrees in economics and physics. He moved to California in 1995 to attend Stanford University. After two days, he dropped out and, with his brother Kimbal, co-founded the online city guide software company Zip2. Zip2 was acquired by Compaq for $307 million in 1999, and with $12 million of the money he made, that same year Musk co-founded X.com, a direct bank. X.com merged with Confinity in 2000 to form PayPal.\n",
        "\n",
        "In 2002, eBay acquired PayPal for $1.5 billion, and that same year, with $100 million of the money he made, Musk founded SpaceX, a spaceflight services company. In 2004, he was an early investor in the electric vehicle manufacturer Tesla Motors, Inc. (now Tesla, Inc.). He became its chairman and product architect, assuming the position of CEO in 2008. In 2006, he helped create SolarCity, a solar energy company that was acquired by Tesla in 2016 and became Tesla Energy. In 2013, Musk proposed a hyperloop high-speed vactrain transportation system. In 2015, he co-founded OpenAI, a nonprofit artificial intelligence research company. The following year, he co-founded Neuralink—a neurotechnology company developing brain–computer interfaces—and the Boring Company, a tunnel construction company. In 2022, his acquisition of Twitter for $44 billion was completed.\n",
        "\n",
        "\"\"\""
      ],
      "metadata": {
        "id": "rP_H1l5fsWTv"
      },
      "execution_count": null,
      "outputs": []
    },
    {
      "cell_type": "code",
      "source": [
        "text_article"
      ],
      "metadata": {
        "colab": {
          "base_uri": "https://localhost:8080/",
          "height": 140
        },
        "id": "sQYCDdeKjofu",
        "outputId": "3c21c4c2-9da9-46f3-8a7c-a913efb87759"
      },
      "execution_count": null,
      "outputs": [
        {
          "output_type": "execute_result",
          "data": {
            "text/plain": [
              "\"\\n\\nElon Reeve Musk (/ˈiːlɒn/ EE-lon; born June 28, 1971) is a business magnate and investor. He is the founder, CEO and chief engineer of SpaceX; angel investor, CEO and product architect of Tesla, Inc.; founder, owner, CTO and chairman of X Corp. and Twitter; founder of the Boring Company; co-founder of Neuralink and OpenAI; and president of the philanthropic Musk Foundation. Musk is the wealthiest person in the world, with an estimated net worth, as of July 6, 2023, of around US$248 billion according to the Bloomberg Billionaires Index and $251.1 billion according to Forbes's Real Time Billionaires list, primarily from his ownership stakes in Tesla and SpaceX.[4][5][6]\\n\\nMusk was born in Pretoria, South Africa, and briefly attended the University of Pretoria before moving to Canada at age 18, acquiring citizenship through his Canadian-born mother. Two years later, he matriculated at Queen's University and transferred to the University of Pennsylvania, where he received bachelor's degrees in economics and physics. He moved to California in 1995 to attend Stanford University. After two days, he dropped out and, with his brother Kimbal, co-founded the online city guide software company Zip2. Zip2 was acquired by Compaq for $307 million in 1999, and with $12 million of the money he made, that same year Musk co-founded X.com, a direct bank. X.com merged with Confinity in 2000 to form PayPal.\\n\\nIn 2002, eBay acquired PayPal for $1.5 billion, and that same year, with $100 million of the money he made, Musk founded SpaceX, a spaceflight services company. In 2004, he was an early investor in the electric vehicle manufacturer Tesla Motors, Inc. (now Tesla, Inc.). He became its chairman and product architect, assuming the position of CEO in 2008. In 2006, he helped create SolarCity, a solar energy company that was acquired by Tesla in 2016 and became Tesla Energy. In 2013, Musk proposed a hyperloop high-speed vactrain transportation system. In 2015, he co-founded OpenAI, a nonprofit artificial intelligence research company. The following year, he co-founded Neuralink—a neurotechnology company developing brain–computer interfaces—and the Boring Company, a tunnel construction company. In 2022, his acquisition of Twitter for $44 billion was completed.\\n\\n\""
            ],
            "application/vnd.google.colaboratory.intrinsic+json": {
              "type": "string"
            }
          },
          "metadata": {},
          "execution_count": 2
        }
      ]
    },
    {
      "cell_type": "markdown",
      "source": [
        "# Preprocessing"
      ],
      "metadata": {
        "id": "zfvaw9WYtzvP"
      }
    },
    {
      "cell_type": "code",
      "source": [
        "# Creating a regular expression to remove square brackets\n",
        "# replacing with single-space\n",
        "text_article = re.sub(r'\\[[0-9]*\\]',' ', text_article)\n",
        "text_article = re.sub(r'\\s+',' ', text_article)"
      ],
      "metadata": {
        "id": "N3Tv3NpGsWY1"
      },
      "execution_count": null,
      "outputs": []
    },
    {
      "cell_type": "code",
      "source": [
        "text_article"
      ],
      "metadata": {
        "colab": {
          "base_uri": "https://localhost:8080/",
          "height": 140
        },
        "id": "TxGkVyMfsWcA",
        "outputId": "335ea08e-be7d-4dfb-bdc6-4e7f52503142"
      },
      "execution_count": null,
      "outputs": [
        {
          "output_type": "execute_result",
          "data": {
            "text/plain": [
              "\" Elon Reeve Musk (/ˈiːlɒn/ EE-lon; born June 28, 1971) is a business magnate and investor. He is the founder, CEO and chief engineer of SpaceX; angel investor, CEO and product architect of Tesla, Inc.; founder, owner, CTO and chairman of X Corp. and Twitter; founder of the Boring Company; co-founder of Neuralink and OpenAI; and president of the philanthropic Musk Foundation. Musk is the wealthiest person in the world, with an estimated net worth, as of July 6, 2023, of around US$248 billion according to the Bloomberg Billionaires Index and $251.1 billion according to Forbes's Real Time Billionaires list, primarily from his ownership stakes in Tesla and SpaceX. Musk was born in Pretoria, South Africa, and briefly attended the University of Pretoria before moving to Canada at age 18, acquiring citizenship through his Canadian-born mother. Two years later, he matriculated at Queen's University and transferred to the University of Pennsylvania, where he received bachelor's degrees in economics and physics. He moved to California in 1995 to attend Stanford University. After two days, he dropped out and, with his brother Kimbal, co-founded the online city guide software company Zip2. Zip2 was acquired by Compaq for $307 million in 1999, and with $12 million of the money he made, that same year Musk co-founded X.com, a direct bank. X.com merged with Confinity in 2000 to form PayPal. In 2002, eBay acquired PayPal for $1.5 billion, and that same year, with $100 million of the money he made, Musk founded SpaceX, a spaceflight services company. In 2004, he was an early investor in the electric vehicle manufacturer Tesla Motors, Inc. (now Tesla, Inc.). He became its chairman and product architect, assuming the position of CEO in 2008. In 2006, he helped create SolarCity, a solar energy company that was acquired by Tesla in 2016 and became Tesla Energy. In 2013, Musk proposed a hyperloop high-speed vactrain transportation system. In 2015, he co-founded OpenAI, a nonprofit artificial intelligence research company. The following year, he co-founded Neuralink—a neurotechnology company developing brain–computer interfaces—and the Boring Company, a tunnel construction company. In 2022, his acquisition of Twitter for $44 billion was completed. \""
            ],
            "application/vnd.google.colaboratory.intrinsic+json": {
              "type": "string"
            }
          },
          "metadata": {},
          "execution_count": 6
        }
      ]
    },
    {
      "cell_type": "code",
      "source": [
        "# removing some special characters and the digits\n",
        "formatted_text_article = re.sub('[^a-zA-Z]',' ', text_article)\n",
        "formatted_text_article = re.sub(r'\\s', \" \", formatted_text_article)"
      ],
      "metadata": {
        "id": "Y6uNeTlMsWgC"
      },
      "execution_count": null,
      "outputs": []
    },
    {
      "cell_type": "code",
      "source": [
        "# removed punctuation and special charatcers\n",
        "# this won't help in sentence tokenization\n",
        "formatted_text_article"
      ],
      "metadata": {
        "colab": {
          "base_uri": "https://localhost:8080/",
          "height": 140
        },
        "id": "VUGG65JQsWjL",
        "outputId": "2fa76d78-7349-41e1-c17e-634848e5d07f"
      },
      "execution_count": null,
      "outputs": [
        {
          "output_type": "execute_result",
          "data": {
            "text/plain": [
              "' Elon Reeve Musk    i l n  EE lon  born June           is a business magnate and investor  He is the founder  CEO and chief engineer of SpaceX  angel investor  CEO and product architect of Tesla  Inc   founder  owner  CTO and chairman of X Corp  and Twitter  founder of the Boring Company  co founder of Neuralink and OpenAI  and president of the philanthropic Musk Foundation  Musk is the wealthiest person in the world  with an estimated net worth  as of July          of around US     billion according to the Bloomberg Billionaires Index and        billion according to Forbes s Real Time Billionaires list  primarily from his ownership stakes in Tesla and SpaceX  Musk was born in Pretoria  South Africa  and briefly attended the University of Pretoria before moving to Canada at age     acquiring citizenship through his Canadian born mother  Two years later  he matriculated at Queen s University and transferred to the University of Pennsylvania  where he received bachelor s degrees in economics and physics  He moved to California in      to attend Stanford University  After two days  he dropped out and  with his brother Kimbal  co founded the online city guide software company Zip   Zip  was acquired by Compaq for      million in       and with     million of the money he made  that same year Musk co founded X com  a direct bank  X com merged with Confinity in      to form PayPal  In       eBay acquired PayPal for      billion  and that same year  with      million of the money he made  Musk founded SpaceX  a spaceflight services company  In       he was an early investor in the electric vehicle manufacturer Tesla Motors  Inc   now Tesla  Inc    He became its chairman and product architect  assuming the position of CEO in       In       he helped create SolarCity  a solar energy company that was acquired by Tesla in      and became Tesla Energy  In       Musk proposed a hyperloop high speed vactrain transportation system  In       he co founded OpenAI  a nonprofit artificial intelligence research company  The following year  he co founded Neuralink a neurotechnology company developing brain computer interfaces and the Boring Company  a tunnel construction company  In       his acquisition of Twitter for     billion was completed  '"
            ],
            "application/vnd.google.colaboratory.intrinsic+json": {
              "type": "string"
            }
          },
          "metadata": {},
          "execution_count": 8
        }
      ]
    },
    {
      "cell_type": "code",
      "source": [
        "# converting into sentence\n",
        "import nltk\n",
        "nltk.download('punkt')\n",
        "\n",
        "sentence_list = nltk.sent_tokenize(text_article)"
      ],
      "metadata": {
        "colab": {
          "base_uri": "https://localhost:8080/"
        },
        "id": "Sl-bDcTosWln",
        "outputId": "89cc7f56-c8a5-4f67-e65a-5dbd63fd0010"
      },
      "execution_count": null,
      "outputs": [
        {
          "output_type": "stream",
          "name": "stderr",
          "text": [
            "[nltk_data] Downloading package punkt to /root/nltk_data...\n",
            "[nltk_data]   Unzipping tokenizers/punkt.zip.\n"
          ]
        }
      ]
    },
    {
      "cell_type": "markdown",
      "source": [
        "# finding the weighted frequency of the occurence"
      ],
      "metadata": {
        "id": "oUjNFg6LwV87"
      }
    },
    {
      "cell_type": "code",
      "source": [
        "nltk.download('stopwords')\n",
        "stopwords = nltk.corpus.stopwords.words(\"english\")"
      ],
      "metadata": {
        "colab": {
          "base_uri": "https://localhost:8080/"
        },
        "id": "Tl6v3dZbsCxl",
        "outputId": "a12f4a59-973c-45b3-a824-228c2bdfeabf"
      },
      "execution_count": null,
      "outputs": [
        {
          "output_type": "stream",
          "name": "stderr",
          "text": [
            "[nltk_data] Downloading package stopwords to /root/nltk_data...\n",
            "[nltk_data]   Unzipping corpora/stopwords.zip.\n"
          ]
        }
      ]
    },
    {
      "cell_type": "code",
      "source": [
        "from nltk.corpus.reader.tagged import word_tokenize\n",
        "word_frequencies = {}\n",
        "for word in nltk.word_tokenize(formatted_text_article):\n",
        "  if word not in stopwords:\n",
        "    if word not in word_frequencies.keys(): # if word is present we increse its freq by 1 else set it equal to 1\n",
        "      word_frequencies[word] = 1\n",
        "    else:\n",
        "      word_frequencies[word] += 1"
      ],
      "metadata": {
        "id": "QnJo6kEqwT8q"
      },
      "execution_count": null,
      "outputs": []
    },
    {
      "cell_type": "code",
      "source": [
        "# to calcuate the wighted frequency we have to first get the maximum\n",
        "maximum_frequency = max(word_frequencies.values())\n",
        "\n",
        "# then we have to divide it\n",
        "for word in word_frequencies.keys():\n",
        "  word_frequencies[word] = (word_frequencies[word]/maximum_frequency)"
      ],
      "metadata": {
        "id": "bam4QI3dw-Kv"
      },
      "execution_count": null,
      "outputs": []
    },
    {
      "cell_type": "code",
      "source": [
        "# now we go to individual sentences and perform this calcuation of this sentence code\n",
        "sentence_scores = {}\n",
        "\n",
        "for sent in sentence_list:\n",
        "  for word in nltk.word_tokenize(sent.lower()): # performing the word-tokenization\n",
        "    if word in word_frequencies.keys():\n",
        "      if len(sent.split(\" \")) < 30:\n",
        "        if sent not in sentence_scores.keys(): # for individual word we are calculationg the sentence scores\n",
        "          sentence_scores[sent] = word_frequencies[word]\n",
        "        else:\n",
        "          sentence_scores[sent] += word_frequencies[word]\n"
      ],
      "metadata": {
        "id": "mnjIigGlw-N9"
      },
      "execution_count": null,
      "outputs": []
    },
    {
      "cell_type": "code",
      "source": [
        "sentence_scores"
      ],
      "metadata": {
        "colab": {
          "base_uri": "https://localhost:8080/"
        },
        "id": "6FdZUwdxw-Uk",
        "outputId": "3d73d633-0e97-4d69-c342-c79e90aa47e8"
      },
      "execution_count": null,
      "outputs": [
        {
          "output_type": "execute_result",
          "data": {
            "text/plain": [
              "{' Elon Reeve Musk (/ˈiːlɒn/ EE-lon; born June 28, 1971) is a business magnate and investor.': 1.1428571428571428,\n",
              " 'Musk was born in Pretoria, South Africa, and briefly attended the University of Pretoria before moving to Canada at age 18, acquiring citizenship through his Canadian-born mother.': 1.4285714285714282,\n",
              " \"Two years later, he matriculated at Queen's University and transferred to the University of Pennsylvania, where he received bachelor's degrees in economics and physics.\": 1.4285714285714282,\n",
              " 'He moved to California in 1995 to attend Stanford University.': 0.2857142857142857,\n",
              " 'After two days, he dropped out and, with his brother Kimbal, co-founded the online city guide software company Zip2.': 1.9999999999999996,\n",
              " 'Zip2 was acquired by Compaq for $307 million in 1999, and with $12 million of the money he made, that same year Musk co-founded X.com, a direct bank.': 2.5714285714285707,\n",
              " 'X.com merged with Confinity in 2000 to form PayPal.': 0.2857142857142857,\n",
              " 'In 2002, eBay acquired PayPal for $1.5 billion, and that same year, with $100 million of the money he made, Musk founded SpaceX, a spaceflight services company.': 4.285714285714286,\n",
              " 'In 2004, he was an early investor in the electric vehicle manufacturer Tesla Motors, Inc. (now Tesla, Inc.).': 0.9999999999999998,\n",
              " 'He became its chairman and product architect, assuming the position of CEO in 2008.': 1.4285714285714284,\n",
              " 'In 2006, he helped create SolarCity, a solar energy company that was acquired by Tesla in 2016 and became Tesla Energy.': 2.2857142857142856,\n",
              " 'In 2013, Musk proposed a hyperloop high-speed vactrain transportation system.': 0.7142857142857142,\n",
              " 'In 2015, he co-founded OpenAI, a nonprofit artificial intelligence research company.': 1.4285714285714284,\n",
              " 'The following year, he co-founded Neuralink—a neurotechnology company developing brain–computer interfaces—and the Boring Company, a tunnel construction company.': 3.714285714285714,\n",
              " 'In 2022, his acquisition of Twitter for $44 billion was completed.': 0.857142857142857}"
            ]
          },
          "metadata": {},
          "execution_count": 14
        }
      ]
    },
    {
      "cell_type": "markdown",
      "source": [
        "# Generating Summary"
      ],
      "metadata": {
        "id": "tEoHZWlYzein"
      }
    },
    {
      "cell_type": "code",
      "source": [
        "t this\n",
        "import heapq\n",
        "\n",
        "summary_sentences = heapq.nlargest(5, sentence_scores, key = sentence_scores.get)\n",
        "\n",
        "summary = \" \".join(summary_sentences)\n",
        "print(summary)"
      ],
      "metadata": {
        "colab": {
          "base_uri": "https://localhost:8080/"
        },
        "id": "b-x5Omfdw-Xe",
        "outputId": "e9cea128-7e9b-49e8-a13a-fde21f6e32e5"
      },
      "execution_count": null,
      "outputs": [
        {
          "output_type": "stream",
          "name": "stdout",
          "text": [
            "In 2002, eBay acquired PayPal for $1.5 billion, and that same year, with $100 million of the money he made, Musk founded SpaceX, a spaceflight services company. The following year, he co-founded Neuralink—a neurotechnology company developing brain–computer interfaces—and the Boring Company, a tunnel construction company. Zip2 was acquired by Compaq for $307 million in 1999, and with $12 million of the money he made, that same year Musk co-founded X.com, a direct bank. In 2006, he helped create SolarCity, a solar energy company that was acquired by Tesla in 2016 and became Tesla Energy. After two days, he dropped out and, with his brother Kimbal, co-founded the online city guide software company Zip2.\n"
          ]
        }
      ]
    },
    {
      "cell_type": "code",
      "source": [
        "summary"
      ],
      "metadata": {
        "colab": {
          "base_uri": "https://localhost:8080/",
          "height": 165
        },
        "id": "72VNHZJOw-um",
        "outputId": "f08791e3-fe4c-42c7-cf93-c502509bc73f"
      },
      "execution_count": null,
      "outputs": [
        {
          "output_type": "error",
          "ename": "NameError",
          "evalue": "ignored",
          "traceback": [
            "\u001b[0;31m---------------------------------------------------------------------------\u001b[0m",
            "\u001b[0;31mNameError\u001b[0m                                 Traceback (most recent call last)",
            "\u001b[0;32m<ipython-input-1-9366b5a69b1e>\u001b[0m in \u001b[0;36m<cell line: 1>\u001b[0;34m()\u001b[0m\n\u001b[0;32m----> 1\u001b[0;31m \u001b[0msummary\u001b[0m\u001b[0;34m\u001b[0m\u001b[0;34m\u001b[0m\u001b[0m\n\u001b[0m",
            "\u001b[0;31mNameError\u001b[0m: name 'summary' is not defined"
          ]
        }
      ]
    },
    {
      "cell_type": "code",
      "source": [
        "# original text\n",
        "text_article"
      ],
      "metadata": {
        "colab": {
          "base_uri": "https://localhost:8080/",
          "height": 140
        },
        "id": "35OChgNUw-xS",
        "outputId": "c1b7ca3e-f960-4902-b87b-f149659b15a0"
      },
      "execution_count": null,
      "outputs": [
        {
          "output_type": "execute_result",
          "data": {
            "text/plain": [
              "\" Elon Reeve Musk (/ˈiːlɒn/ EE-lon; born June 28, 1971) is a business magnate and investor. He is the founder, CEO and chief engineer of SpaceX; angel investor, CEO and product architect of Tesla, Inc.; founder, owner, CTO and chairman of X Corp. and Twitter; founder of the Boring Company; co-founder of Neuralink and OpenAI; and president of the philanthropic Musk Foundation. Musk is the wealthiest person in the world, with an estimated net worth, as of July 6, 2023, of around US$248 billion according to the Bloomberg Billionaires Index and $251.1 billion according to Forbes's Real Time Billionaires list, primarily from his ownership stakes in Tesla and SpaceX. Musk was born in Pretoria, South Africa, and briefly attended the University of Pretoria before moving to Canada at age 18, acquiring citizenship through his Canadian-born mother. Two years later, he matriculated at Queen's University and transferred to the University of Pennsylvania, where he received bachelor's degrees in economics and physics. He moved to California in 1995 to attend Stanford University. After two days, he dropped out and, with his brother Kimbal, co-founded the online city guide software company Zip2. Zip2 was acquired by Compaq for $307 million in 1999, and with $12 million of the money he made, that same year Musk co-founded X.com, a direct bank. X.com merged with Confinity in 2000 to form PayPal. In 2002, eBay acquired PayPal for $1.5 billion, and that same year, with $100 million of the money he made, Musk founded SpaceX, a spaceflight services company. In 2004, he was an early investor in the electric vehicle manufacturer Tesla Motors, Inc. (now Tesla, Inc.). He became its chairman and product architect, assuming the position of CEO in 2008. In 2006, he helped create SolarCity, a solar energy company that was acquired by Tesla in 2016 and became Tesla Energy. In 2013, Musk proposed a hyperloop high-speed vactrain transportation system. In 2015, he co-founded OpenAI, a nonprofit artificial intelligence research company. The following year, he co-founded Neuralink—a neurotechnology company developing brain–computer interfaces—and the Boring Company, a tunnel construction company. In 2022, his acquisition of Twitter for $44 billion was completed. \""
            ],
            "application/vnd.google.colaboratory.intrinsic+json": {
              "type": "string"
            }
          },
          "metadata": {},
          "execution_count": 17
        }
      ]
    },
    {
      "cell_type": "code",
      "source": [
        "text_article(\"\")"
      ],
      "metadata": {
        "id": "4D2gr5PPw-0t"
      },
      "execution_count": null,
      "outputs": []
    }
  ]
}